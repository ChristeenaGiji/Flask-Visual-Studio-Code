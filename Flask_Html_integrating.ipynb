{
  "nbformat": 4,
  "nbformat_minor": 0,
  "metadata": {
    "colab": {
      "provenance": [],
      "authorship_tag": "ABX9TyPwXHirCzi5kmhOwA821uPd",
      "include_colab_link": true
    },
    "kernelspec": {
      "name": "python3",
      "display_name": "Python 3"
    },
    "language_info": {
      "name": "python"
    }
  },
  "cells": [
    {
      "cell_type": "markdown",
      "metadata": {
        "id": "view-in-github",
        "colab_type": "text"
      },
      "source": [
        "<a href=\"https://colab.research.google.com/github/ChristeenaGiji/Flask-Visual-Studio-Code/blob/main/Flask_Html_integrating.ipynb\" target=\"_parent\"><img src=\"https://colab.research.google.com/assets/colab-badge.svg\" alt=\"Open In Colab\"/></a>"
      ]
    },
    {
      "cell_type": "code",
      "source": [],
      "metadata": {
        "id": "HMeieq0kIwMs"
      },
      "execution_count": null,
      "outputs": []
    },
    {
      "cell_type": "markdown",
      "source": [
        "#Visual Studio Code\n"
      ],
      "metadata": {
        "id": "T-aKZAWuI2zD"
      }
    },
    {
      "cell_type": "code",
      "source": [
        "### Integrate HTML With Flask\n",
        "### HTTP verb GET And POST\n",
        "\n",
        "\n",
        "\n",
        "from flask import Flask,redirect,url_for,render_template,request\n",
        "\n",
        "app=Flask(__name__)\n",
        "\n",
        "@app.route('/')\n",
        "def welcome():\n",
        "    return render_template('index.html')\n",
        "\n",
        "@app.route('/success/<int:score>')\n",
        "def success(score):\n",
        "    res=\"\"\n",
        "    if score>=50:\n",
        "        res=\"PASS\"\n",
        "    else:\n",
        "        res='FAIL'\n",
        "    exp={'score':score,'res':res}\n",
        "    return render_template('result.html',result=exp)\n",
        "\n",
        "\n",
        "@app.route('/fail/<int:score>')\n",
        "def fail(score):\n",
        "    return \"The Person has failed and the marks is \"+ str(score)\n",
        "\n",
        "### Result checker\n",
        "@app.route('/results/<int:marks>')\n",
        "def results(marks):\n",
        "    result=\"\"\n",
        "    if marks<50:\n",
        "        result='fail'\n",
        "    else:\n",
        "        result='success'\n",
        "    return redirect(url_for(result,score=marks))\n",
        "\n",
        "### Result checker submit html page\n",
        "@app.route('/submit',methods=['POST','GET'])\n",
        "def submit():\n",
        "    total_score=0\n",
        "    if request.method=='POST':\n",
        "        science=float(request.form['science'])\n",
        "        maths=float(request.form['maths'])\n",
        "        c=float(request.form['c'])\n",
        "        data_science=float(request.form['datascience'])\n",
        "        total_score=(science+maths+c+data_science)/4\n",
        "    res=\"\"\n",
        "    return redirect(url_for('success',score=total_score))\n",
        "\n",
        "if __name__=='__main__':\n",
        "    app.run(debug=True)"
      ],
      "metadata": {
        "id": "baYkdFiWCaXF"
      },
      "execution_count": null,
      "outputs": []
    },
    {
      "cell_type": "markdown",
      "source": [
        "#app.py"
      ],
      "metadata": {
        "id": "GOmOOXIjJWRH"
      }
    },
    {
      "cell_type": "code",
      "source": [
        "from flask import Flask, redirect, url_for\n",
        "\n",
        "## WSGI application\n",
        "app = Flask(__name__)\n",
        "\n",
        "@app.route('/')\n",
        "def welcome():\n",
        "    return \"Welcome\"\n",
        "\n",
        "@app.route('/success/<int:score>')\n",
        "def success(score):\n",
        "    return \"The person has passed and the marks are \" + str(score)\n",
        "\n",
        "@app.route('/fail/<int:score>')\n",
        "def fail(score):\n",
        "    return \"The person has failed and the marks are \" + str(score)\n",
        "\n",
        "@app.route('/results/<int:marks>')\n",
        "def results(marks):\n",
        "    result = \"\"\n",
        "    if marks < 50:\n",
        "        result = 'fail'\n",
        "    else:\n",
        "        result = 'success'\n",
        "    return redirect(url_for(result, score=marks))\n",
        "\n",
        "if __name__ == '__main__':\n",
        "    app.run(debug=True)\n"
      ],
      "metadata": {
        "id": "0sJ9EzXMJVf5"
      },
      "execution_count": null,
      "outputs": []
    },
    {
      "cell_type": "markdown",
      "source": [
        "# Template> index"
      ],
      "metadata": {
        "id": "p3xrGLd5JClQ"
      }
    },
    {
      "cell_type": "code",
      "source": [
        "<!DOCTYPE html>\n",
        "<html>\n",
        "<head>\n",
        "<link rel=\"stylesheet\" href=\"{{ url_for('static',filename='css/style.css') }}\">\n",
        "<script type=\"text/javascript\" src=\"{{ url_for('static',filename='script/script.js') }}\">\n",
        "\n",
        "</script>\n",
        "\n",
        "</head>\n",
        "<body>\n",
        "\n",
        "<h2>HTML Forms</h2>\n",
        "\n",
        "<form action=\"/submit\" method='post'>\n",
        "  <label for=\"Science\">Science:</label><br>\n",
        "  <input type=\"text\" id=\"science\" name=\"science\" value=\"0\"><br>\n",
        "  <label for=\"Maths\">Maths:</label><br>\n",
        "  <input type=\"text\" id=\"maths\" name=\"maths\" value=\"0\"><br><br>\n",
        "  <label for=\"C \">C:</label><br>\n",
        "  <input type=\"text\" id=\"c\" name=\"c\" value=\"0\"><br><br>\n",
        "  <label for=\"datascience\">Data Science:</label><br>\n",
        "  <input type=\"text\" id=\"datascience\" name=\"datascience\" value=\"0\"><br><br>\n",
        "  <input type=\"submit\" value=\"Submit\">\n",
        "</form>\n",
        "\n",
        "<p>If you click the \"Submit\" button, the form-data will be sent to a page called \"/submit\".</p>\n",
        "\n",
        "</body>\n",
        "</html>"
      ],
      "metadata": {
        "id": "FFPla73dI_JP"
      },
      "execution_count": null,
      "outputs": []
    },
    {
      "cell_type": "markdown",
      "source": [
        "#Scorecard.py"
      ],
      "metadata": {
        "id": "zyJpfuIsJmlQ"
      }
    },
    {
      "cell_type": "code",
      "source": [
        "from flask import Flask, redirect, url_for\n",
        "\n",
        "## WSGI application\n",
        "app = Flask(__name__)\n",
        "\n",
        "@app.route('/')\n",
        "def welcome():\n",
        "    return \"Welcome\"\n",
        "\n",
        "@app.route('/success/<int:score>')\n",
        "def success(score):\n",
        "    return \"The person has passed and the marks are \" + str(score)\n",
        "\n",
        "@app.route('/fail/<int:score>')\n",
        "def fail(score):\n",
        "    return \"The person has failed and the marks are \" + str(score)\n",
        "\n",
        "@app.route('/results/<int:marks>')\n",
        "def results(marks):\n",
        "    result = \"\"\n",
        "    if marks < 50:\n",
        "        result = 'fail'\n",
        "    else:\n",
        "        result = 'success'\n",
        "    return redirect(url_for(result, score=marks))\n",
        "\n",
        "if __name__ == '__main__':\n",
        "    app.run(debug=True)\n"
      ],
      "metadata": {
        "id": "EJgL-zRoJphI"
      },
      "execution_count": null,
      "outputs": []
    },
    {
      "cell_type": "markdown",
      "source": [
        "#templates>result"
      ],
      "metadata": {
        "id": "BuXgZYtIJL0c"
      }
    },
    {
      "cell_type": "code",
      "source": [
        "<html>\n",
        "    <h2> Final Results</h2>\n",
        "    <body>\n",
        "            The Output is {{result}}\n",
        "    </body>\n",
        "    </html>"
      ],
      "metadata": {
        "id": "qeWN0R_WJQxO"
      },
      "execution_count": null,
      "outputs": []
    }
  ]
}